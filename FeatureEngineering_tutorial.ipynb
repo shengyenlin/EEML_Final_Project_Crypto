{
 "cells": [
  {
   "cell_type": "code",
   "execution_count": 1,
   "metadata": {},
   "outputs": [],
   "source": [
    "import numpy as np\n",
    "import pandas as pd\n",
    "\n",
    "import importlib\n",
    "import TechnicalAnalysisFeatures\n",
    "importlib.reload(TechnicalAnalysisFeatures)\n",
    "from TechnicalAnalysisFeatures import *"
   ]
  },
  {
   "cell_type": "code",
   "execution_count": 42,
   "metadata": {},
   "outputs": [],
   "source": [
    "data_path = './data/'\n",
    "train = pd.read_csv(data_path + 'train.csv', nrows = 10000) "
   ]
  },
  {
   "cell_type": "code",
   "execution_count": 43,
   "metadata": {},
   "outputs": [],
   "source": [
    "train['date'] = pd.to_datetime(train['timestamp'], unit = 's')\n",
    "train = train.sort_values('date')\n",
    "train.set_index(train['timestamp'], inplace=True)\n",
    "train.drop(['timestamp'], axis = 1,inplace=True)"
   ]
  },
  {
   "cell_type": "code",
   "execution_count": 5,
   "metadata": {},
   "outputs": [],
   "source": [
    "#Whether to load strict data or not\n",
    "LOAD_STRICT = 0\n",
    "if LOAD_STRICT: \n",
    "    train = train.loc[train['date'] < \"2021-06-13 00:00:00\"]    "
   ]
  },
  {
   "cell_type": "code",
   "execution_count": 46,
   "metadata": {},
   "outputs": [],
   "source": [
    "#Select which asset\n",
    "train = train[train[\"Asset_ID\"] == 1]"
   ]
  },
  {
   "cell_type": "code",
   "execution_count": 49,
   "metadata": {},
   "outputs": [],
   "source": [
    "#fill missing timestamp\n",
    "train = train.reindex(\n",
    "    range(train.index[0],train.index[-1]+60,60), method='pad'\n",
    ")"
   ]
  },
  {
   "cell_type": "code",
   "execution_count": 72,
   "metadata": {},
   "outputs": [],
   "source": [
    "Ns = [3, 5, 10, 30]\n",
    "\n",
    "#parameters for KST\n",
    "r1, r2, r3, r4 = 10, 15, 20, 30\n",
    "n1, n2, n3, n4 = 10, 10, 10, 15\n",
    "\n",
    "#parameter for MACD \n",
    "n_fasts = [3, 5]\n",
    "n_slows = [10, 15]\n",
    "\n",
    "#ADX\n",
    "n_ADX = 10\n",
    "\n",
    "for n in Ns:\n",
    "    train = MA(train, n)\n",
    "    train = EMA(train, n)\n",
    "    train = MOM(train, n)\n",
    "    train = ATR(train, n)\n",
    "    train = BBANDS(train, n)\n",
    "    train = TRIX(train, n)\n",
    "    train = ADX(train, n, n_ADX)\n",
    "    train = Vortex(train, n)\n",
    "    train = RSI(train, n)\n",
    "    train = ACCDIST(train, n)\n",
    "    train = MFI(train, n)\n",
    "    train = OBV(train, n)\n",
    "    train = FORCE(train, n)\n",
    "    train = EOM(train, n)\n",
    "    train = CCI(train, n)\n",
    "    train = COPP(train, n)\n",
    "    train = KELCH(train, n)\n",
    "    train = DONCH(train, n)\n",
    "    train = STDDEV(train, n)\n",
    "\n",
    "for n_fast in n_fasts:\n",
    "    for n_slow in n_slows:\n",
    "        train = MACD(train, n_fast, n_slow)\n",
    "\n",
    "train = PPSR(train)\n",
    "train = STOK(train)\n",
    "train = MassI(train)\n",
    "train = Chaikin(train)\n",
    "train = ULTOSC(train)\n",
    "\n",
    "train = KST(train, r1, r2, r3, r4, n1, n2, n3, n4)"
   ]
  },
  {
   "cell_type": "markdown",
   "metadata": {},
   "source": [
    "# Feature selections"
   ]
  },
  {
   "cell_type": "code",
   "execution_count": 73,
   "metadata": {},
   "outputs": [],
   "source": [
    "from sklearn.linear_model import LassoCV"
   ]
  },
  {
   "cell_type": "code",
   "execution_count": 74,
   "metadata": {},
   "outputs": [],
   "source": [
    "SEED = 1126\n",
    "drop_cols = [\"Target\", \"Asset_ID\", \"date\"]\n",
    "keep_cols = list(\n",
    "    set(train.columns) - set(drop_cols)\n",
    ")\n",
    "y_train = train[\"Target\"]\n",
    "X_train = train.loc[:, keep_cols]"
   ]
  },
  {
   "cell_type": "code",
   "execution_count": 75,
   "metadata": {},
   "outputs": [],
   "source": [
    "#Lasso can't handle NaN\n",
    "X_train_ = X_train.fillna(0)"
   ]
  },
  {
   "cell_type": "code",
   "execution_count": 76,
   "metadata": {},
   "outputs": [
    {
     "name": "stderr",
     "output_type": "stream",
     "text": [
      "C:\\Users\\martin\\.conda\\envs\\test\\lib\\site-packages\\sklearn\\linear_model\\_coordinate_descent.py:472: ConvergenceWarning: Objective did not converge. You might want to increase the number of iterations. Duality gap: 1.625332143806446e-05, tolerance: 4.432083740153707e-06\n",
      "  tol, rng, random, positive)\n",
      "C:\\Users\\martin\\.conda\\envs\\test\\lib\\site-packages\\sklearn\\linear_model\\_coordinate_descent.py:472: ConvergenceWarning: Objective did not converge. You might want to increase the number of iterations. Duality gap: 2.621444004059087e-05, tolerance: 4.432083740153707e-06\n",
      "  tol, rng, random, positive)\n",
      "C:\\Users\\martin\\.conda\\envs\\test\\lib\\site-packages\\sklearn\\linear_model\\_coordinate_descent.py:472: ConvergenceWarning: Objective did not converge. You might want to increase the number of iterations. Duality gap: 2.8259891566427553e-05, tolerance: 4.432083740153707e-06\n",
      "  tol, rng, random, positive)\n",
      "C:\\Users\\martin\\.conda\\envs\\test\\lib\\site-packages\\sklearn\\linear_model\\_coordinate_descent.py:472: ConvergenceWarning: Objective did not converge. You might want to increase the number of iterations. Duality gap: 1.6113745447916827e-05, tolerance: 4.432083740153707e-06\n",
      "  tol, rng, random, positive)\n",
      "C:\\Users\\martin\\.conda\\envs\\test\\lib\\site-packages\\sklearn\\linear_model\\_coordinate_descent.py:472: ConvergenceWarning: Objective did not converge. You might want to increase the number of iterations. Duality gap: 6.67314750193021e-05, tolerance: 4.432083740153707e-06\n",
      "  tol, rng, random, positive)\n",
      "C:\\Users\\martin\\.conda\\envs\\test\\lib\\site-packages\\sklearn\\linear_model\\_coordinate_descent.py:472: ConvergenceWarning: Objective did not converge. You might want to increase the number of iterations. Duality gap: 8.180331272536479e-05, tolerance: 4.432083740153707e-06\n",
      "  tol, rng, random, positive)\n",
      "C:\\Users\\martin\\.conda\\envs\\test\\lib\\site-packages\\sklearn\\linear_model\\_coordinate_descent.py:472: ConvergenceWarning: Objective did not converge. You might want to increase the number of iterations. Duality gap: 8.509608226865695e-05, tolerance: 4.432083740153707e-06\n",
      "  tol, rng, random, positive)\n",
      "C:\\Users\\martin\\.conda\\envs\\test\\lib\\site-packages\\sklearn\\linear_model\\_coordinate_descent.py:472: ConvergenceWarning: Objective did not converge. You might want to increase the number of iterations. Duality gap: 8.603671697825915e-05, tolerance: 4.432083740153707e-06\n",
      "  tol, rng, random, positive)\n",
      "C:\\Users\\martin\\.conda\\envs\\test\\lib\\site-packages\\sklearn\\linear_model\\_coordinate_descent.py:472: ConvergenceWarning: Objective did not converge. You might want to increase the number of iterations. Duality gap: 8.597608034457971e-05, tolerance: 4.432083740153707e-06\n",
      "  tol, rng, random, positive)\n",
      "C:\\Users\\martin\\.conda\\envs\\test\\lib\\site-packages\\sklearn\\linear_model\\_coordinate_descent.py:472: ConvergenceWarning: Objective did not converge. You might want to increase the number of iterations. Duality gap: 8.557105588714864e-05, tolerance: 4.432083740153707e-06\n",
      "  tol, rng, random, positive)\n",
      "C:\\Users\\martin\\.conda\\envs\\test\\lib\\site-packages\\sklearn\\linear_model\\_coordinate_descent.py:472: ConvergenceWarning: Objective did not converge. You might want to increase the number of iterations. Duality gap: 8.573925995534332e-05, tolerance: 4.432083740153707e-06\n",
      "  tol, rng, random, positive)\n",
      "C:\\Users\\martin\\.conda\\envs\\test\\lib\\site-packages\\sklearn\\linear_model\\_coordinate_descent.py:472: ConvergenceWarning: Objective did not converge. You might want to increase the number of iterations. Duality gap: 8.496508139863024e-05, tolerance: 4.432083740153707e-06\n",
      "  tol, rng, random, positive)\n",
      "C:\\Users\\martin\\.conda\\envs\\test\\lib\\site-packages\\sklearn\\linear_model\\_coordinate_descent.py:472: ConvergenceWarning: Objective did not converge. You might want to increase the number of iterations. Duality gap: 8.54018651795796e-05, tolerance: 4.432083740153707e-06\n",
      "  tol, rng, random, positive)\n",
      "C:\\Users\\martin\\.conda\\envs\\test\\lib\\site-packages\\sklearn\\linear_model\\_coordinate_descent.py:472: ConvergenceWarning: Objective did not converge. You might want to increase the number of iterations. Duality gap: 1.3043377639652964e-05, tolerance: 4.1677506791239926e-06\n",
      "  tol, rng, random, positive)\n",
      "C:\\Users\\martin\\.conda\\envs\\test\\lib\\site-packages\\sklearn\\linear_model\\_coordinate_descent.py:472: ConvergenceWarning: Objective did not converge. You might want to increase the number of iterations. Duality gap: 2.858471167473814e-05, tolerance: 4.1677506791239926e-06\n",
      "  tol, rng, random, positive)\n",
      "C:\\Users\\martin\\.conda\\envs\\test\\lib\\site-packages\\sklearn\\linear_model\\_coordinate_descent.py:472: ConvergenceWarning: Objective did not converge. You might want to increase the number of iterations. Duality gap: 3.2940792397323504e-05, tolerance: 4.1677506791239926e-06\n",
      "  tol, rng, random, positive)\n",
      "C:\\Users\\martin\\.conda\\envs\\test\\lib\\site-packages\\sklearn\\linear_model\\_coordinate_descent.py:472: ConvergenceWarning: Objective did not converge. You might want to increase the number of iterations. Duality gap: 6.480621236473055e-05, tolerance: 4.1677506791239926e-06\n",
      "  tol, rng, random, positive)\n",
      "C:\\Users\\martin\\.conda\\envs\\test\\lib\\site-packages\\sklearn\\linear_model\\_coordinate_descent.py:472: ConvergenceWarning: Objective did not converge. You might want to increase the number of iterations. Duality gap: 0.00010189217712416182, tolerance: 4.1677506791239926e-06\n",
      "  tol, rng, random, positive)\n",
      "C:\\Users\\martin\\.conda\\envs\\test\\lib\\site-packages\\sklearn\\linear_model\\_coordinate_descent.py:472: ConvergenceWarning: Objective did not converge. You might want to increase the number of iterations. Duality gap: 0.0001111005262428369, tolerance: 4.1677506791239926e-06\n",
      "  tol, rng, random, positive)\n",
      "C:\\Users\\martin\\.conda\\envs\\test\\lib\\site-packages\\sklearn\\linear_model\\_coordinate_descent.py:472: ConvergenceWarning: Objective did not converge. You might want to increase the number of iterations. Duality gap: 0.00011341617913197127, tolerance: 4.1677506791239926e-06\n",
      "  tol, rng, random, positive)\n",
      "C:\\Users\\martin\\.conda\\envs\\test\\lib\\site-packages\\sklearn\\linear_model\\_coordinate_descent.py:472: ConvergenceWarning: Objective did not converge. You might want to increase the number of iterations. Duality gap: 0.00011134428041839617, tolerance: 4.1677506791239926e-06\n",
      "  tol, rng, random, positive)\n",
      "C:\\Users\\martin\\.conda\\envs\\test\\lib\\site-packages\\sklearn\\linear_model\\_coordinate_descent.py:472: ConvergenceWarning: Objective did not converge. You might want to increase the number of iterations. Duality gap: 0.00011187265436159166, tolerance: 4.1677506791239926e-06\n",
      "  tol, rng, random, positive)\n",
      "C:\\Users\\martin\\.conda\\envs\\test\\lib\\site-packages\\sklearn\\linear_model\\_coordinate_descent.py:472: ConvergenceWarning: Objective did not converge. You might want to increase the number of iterations. Duality gap: 0.0001119787077156209, tolerance: 4.1677506791239926e-06\n",
      "  tol, rng, random, positive)\n",
      "C:\\Users\\martin\\.conda\\envs\\test\\lib\\site-packages\\sklearn\\linear_model\\_coordinate_descent.py:472: ConvergenceWarning: Objective did not converge. You might want to increase the number of iterations. Duality gap: 0.00011145608241614618, tolerance: 4.1677506791239926e-06\n",
      "  tol, rng, random, positive)\n",
      "C:\\Users\\martin\\.conda\\envs\\test\\lib\\site-packages\\sklearn\\linear_model\\_coordinate_descent.py:472: ConvergenceWarning: Objective did not converge. You might want to increase the number of iterations. Duality gap: 2.4123183631152845e-05, tolerance: 4.344178182995819e-06\n",
      "  tol, rng, random, positive)\n",
      "C:\\Users\\martin\\.conda\\envs\\test\\lib\\site-packages\\sklearn\\linear_model\\_coordinate_descent.py:472: ConvergenceWarning: Objective did not converge. You might want to increase the number of iterations. Duality gap: 0.00010584108289586613, tolerance: 4.344178182995819e-06\n",
      "  tol, rng, random, positive)\n",
      "C:\\Users\\martin\\.conda\\envs\\test\\lib\\site-packages\\sklearn\\linear_model\\_coordinate_descent.py:472: ConvergenceWarning: Objective did not converge. You might want to increase the number of iterations. Duality gap: 0.00015875663388429523, tolerance: 4.344178182995819e-06\n",
      "  tol, rng, random, positive)\n",
      "C:\\Users\\martin\\.conda\\envs\\test\\lib\\site-packages\\sklearn\\linear_model\\_coordinate_descent.py:472: ConvergenceWarning: Objective did not converge. You might want to increase the number of iterations. Duality gap: 0.00018551994627358237, tolerance: 4.344178182995819e-06\n",
      "  tol, rng, random, positive)\n",
      "C:\\Users\\martin\\.conda\\envs\\test\\lib\\site-packages\\sklearn\\linear_model\\_coordinate_descent.py:472: ConvergenceWarning: Objective did not converge. You might want to increase the number of iterations. Duality gap: 0.00019782127896627102, tolerance: 4.344178182995819e-06\n",
      "  tol, rng, random, positive)\n",
      "C:\\Users\\martin\\.conda\\envs\\test\\lib\\site-packages\\sklearn\\linear_model\\_coordinate_descent.py:472: ConvergenceWarning: Objective did not converge. You might want to increase the number of iterations. Duality gap: 0.00020294051794983448, tolerance: 4.344178182995819e-06\n",
      "  tol, rng, random, positive)\n",
      "C:\\Users\\martin\\.conda\\envs\\test\\lib\\site-packages\\sklearn\\linear_model\\_coordinate_descent.py:472: ConvergenceWarning: Objective did not converge. You might want to increase the number of iterations. Duality gap: 0.00020483631942443126, tolerance: 4.344178182995819e-06\n",
      "  tol, rng, random, positive)\n",
      "C:\\Users\\martin\\.conda\\envs\\test\\lib\\site-packages\\sklearn\\linear_model\\_coordinate_descent.py:472: ConvergenceWarning: Objective did not converge. You might want to increase the number of iterations. Duality gap: 0.00020467698214643795, tolerance: 4.344178182995819e-06\n",
      "  tol, rng, random, positive)\n",
      "C:\\Users\\martin\\.conda\\envs\\test\\lib\\site-packages\\sklearn\\linear_model\\_coordinate_descent.py:472: ConvergenceWarning: Objective did not converge. You might want to increase the number of iterations. Duality gap: 0.0002038267052809871, tolerance: 4.344178182995819e-06\n",
      "  tol, rng, random, positive)\n",
      "C:\\Users\\martin\\.conda\\envs\\test\\lib\\site-packages\\sklearn\\linear_model\\_coordinate_descent.py:472: ConvergenceWarning: Objective did not converge. You might want to increase the number of iterations. Duality gap: 0.0002026982911097555, tolerance: 4.344178182995819e-06\n",
      "  tol, rng, random, positive)\n",
      "C:\\Users\\martin\\.conda\\envs\\test\\lib\\site-packages\\sklearn\\linear_model\\_coordinate_descent.py:472: ConvergenceWarning: Objective did not converge. You might want to increase the number of iterations. Duality gap: 0.00020137530319826874, tolerance: 4.344178182995819e-06\n",
      "  tol, rng, random, positive)\n",
      "C:\\Users\\martin\\.conda\\envs\\test\\lib\\site-packages\\sklearn\\linear_model\\_coordinate_descent.py:472: ConvergenceWarning: Objective did not converge. You might want to increase the number of iterations. Duality gap: 2.600671553076861e-05, tolerance: 4.625231740155797e-06\n",
      "  tol, rng, random, positive)\n",
      "C:\\Users\\martin\\.conda\\envs\\test\\lib\\site-packages\\sklearn\\linear_model\\_coordinate_descent.py:472: ConvergenceWarning: Objective did not converge. You might want to increase the number of iterations. Duality gap: 3.199285402829405e-05, tolerance: 4.625231740155797e-06\n",
      "  tol, rng, random, positive)\n",
      "C:\\Users\\martin\\.conda\\envs\\test\\lib\\site-packages\\sklearn\\linear_model\\_coordinate_descent.py:472: ConvergenceWarning: Objective did not converge. You might want to increase the number of iterations. Duality gap: 3.309085142606111e-05, tolerance: 4.625231740155797e-06\n",
      "  tol, rng, random, positive)\n",
      "C:\\Users\\martin\\.conda\\envs\\test\\lib\\site-packages\\sklearn\\linear_model\\_coordinate_descent.py:472: ConvergenceWarning: Objective did not converge. You might want to increase the number of iterations. Duality gap: 3.30716101370962e-05, tolerance: 4.625231740155797e-06\n",
      "  tol, rng, random, positive)\n",
      "C:\\Users\\martin\\.conda\\envs\\test\\lib\\site-packages\\sklearn\\linear_model\\_coordinate_descent.py:472: ConvergenceWarning: Objective did not converge. You might want to increase the number of iterations. Duality gap: 7.170611445164038e-05, tolerance: 4.625231740155797e-06\n",
      "  tol, rng, random, positive)\n",
      "C:\\Users\\martin\\.conda\\envs\\test\\lib\\site-packages\\sklearn\\linear_model\\_coordinate_descent.py:472: ConvergenceWarning: Objective did not converge. You might want to increase the number of iterations. Duality gap: 0.0002470431747010893, tolerance: 4.625231740155797e-06\n",
      "  tol, rng, random, positive)\n",
      "C:\\Users\\martin\\.conda\\envs\\test\\lib\\site-packages\\sklearn\\linear_model\\_coordinate_descent.py:472: ConvergenceWarning: Objective did not converge. You might want to increase the number of iterations. Duality gap: 0.00042855462867857214, tolerance: 4.625231740155797e-06\n",
      "  tol, rng, random, positive)\n",
      "C:\\Users\\martin\\.conda\\envs\\test\\lib\\site-packages\\sklearn\\linear_model\\_coordinate_descent.py:472: ConvergenceWarning: Objective did not converge. You might want to increase the number of iterations. Duality gap: 0.00015001691716511056, tolerance: 4.625231740155797e-06\n",
      "  tol, rng, random, positive)\n",
      "C:\\Users\\martin\\.conda\\envs\\test\\lib\\site-packages\\sklearn\\linear_model\\_coordinate_descent.py:472: ConvergenceWarning: Objective did not converge. You might want to increase the number of iterations. Duality gap: 8.602405181898365e-05, tolerance: 4.625231740155797e-06\n",
      "  tol, rng, random, positive)\n",
      "C:\\Users\\martin\\.conda\\envs\\test\\lib\\site-packages\\sklearn\\linear_model\\_coordinate_descent.py:472: ConvergenceWarning: Objective did not converge. You might want to increase the number of iterations. Duality gap: 7.343721552813265e-05, tolerance: 4.625231740155797e-06\n",
      "  tol, rng, random, positive)\n"
     ]
    }
   ],
   "source": [
    "clf = LassoCV(\n",
    "    cv=5,random_state=SEED, max_iter = 50000\n",
    "    ).fit(X_train_, y_train)"
   ]
  },
  {
   "cell_type": "code",
   "execution_count": 77,
   "metadata": {},
   "outputs": [
    {
     "name": "stdout",
     "output_type": "stream",
     "text": [
      "Training acc of best model = 7.5851%\n",
      "Cross Validation result in each parameter sets\n"
     ]
    },
    {
     "data": {
      "text/html": [
       "<div>\n",
       "<style scoped>\n",
       "    .dataframe tbody tr th:only-of-type {\n",
       "        vertical-align: middle;\n",
       "    }\n",
       "\n",
       "    .dataframe tbody tr th {\n",
       "        vertical-align: top;\n",
       "    }\n",
       "\n",
       "    .dataframe thead th {\n",
       "        text-align: right;\n",
       "    }\n",
       "</style>\n",
       "<table border=\"1\" class=\"dataframe\">\n",
       "  <thead>\n",
       "    <tr style=\"text-align: right;\">\n",
       "      <th></th>\n",
       "      <th>Alpha</th>\n",
       "      <th>Cross valid MSE</th>\n",
       "    </tr>\n",
       "  </thead>\n",
       "  <tbody>\n",
       "    <tr>\n",
       "      <th>0</th>\n",
       "      <td>1.835950</td>\n",
       "      <td>0.000044</td>\n",
       "    </tr>\n",
       "    <tr>\n",
       "      <th>1</th>\n",
       "      <td>1.712213</td>\n",
       "      <td>0.000044</td>\n",
       "    </tr>\n",
       "    <tr>\n",
       "      <th>2</th>\n",
       "      <td>1.596816</td>\n",
       "      <td>0.000044</td>\n",
       "    </tr>\n",
       "    <tr>\n",
       "      <th>3</th>\n",
       "      <td>1.489196</td>\n",
       "      <td>0.000044</td>\n",
       "    </tr>\n",
       "    <tr>\n",
       "      <th>4</th>\n",
       "      <td>1.388829</td>\n",
       "      <td>0.000044</td>\n",
       "    </tr>\n",
       "    <tr>\n",
       "      <th>...</th>\n",
       "      <td>...</td>\n",
       "      <td>...</td>\n",
       "    </tr>\n",
       "    <tr>\n",
       "      <th>95</th>\n",
       "      <td>0.002427</td>\n",
       "      <td>0.001270</td>\n",
       "    </tr>\n",
       "    <tr>\n",
       "      <th>96</th>\n",
       "      <td>0.002263</td>\n",
       "      <td>0.001163</td>\n",
       "    </tr>\n",
       "    <tr>\n",
       "      <th>97</th>\n",
       "      <td>0.002111</td>\n",
       "      <td>0.001002</td>\n",
       "    </tr>\n",
       "    <tr>\n",
       "      <th>98</th>\n",
       "      <td>0.001969</td>\n",
       "      <td>0.000872</td>\n",
       "    </tr>\n",
       "    <tr>\n",
       "      <th>99</th>\n",
       "      <td>0.001836</td>\n",
       "      <td>0.000764</td>\n",
       "    </tr>\n",
       "  </tbody>\n",
       "</table>\n",
       "<p>100 rows × 2 columns</p>\n",
       "</div>"
      ],
      "text/plain": [
       "       Alpha  Cross valid MSE\n",
       "0   1.835950         0.000044\n",
       "1   1.712213         0.000044\n",
       "2   1.596816         0.000044\n",
       "3   1.489196         0.000044\n",
       "4   1.388829         0.000044\n",
       "..       ...              ...\n",
       "95  0.002427         0.001270\n",
       "96  0.002263         0.001163\n",
       "97  0.002111         0.001002\n",
       "98  0.001969         0.000872\n",
       "99  0.001836         0.000764\n",
       "\n",
       "[100 rows x 2 columns]"
      ]
     },
     "execution_count": 77,
     "metadata": {},
     "output_type": "execute_result"
    }
   ],
   "source": [
    "acc = clf.score(X_train_, y_train)\n",
    "print(f\"Training acc of best model = {round(acc * 100, 4)}%\")\n",
    "print(\"Cross Validation result in each parameter sets\")\n",
    "pd.DataFrame({\"Alpha\":clf.alphas_, \"Cross valid MSE\": clf.mse_path_.mean(axis = 1)})"
   ]
  },
  {
   "cell_type": "code",
   "execution_count": 78,
   "metadata": {},
   "outputs": [
    {
     "name": "stdout",
     "output_type": "stream",
     "text": [
      "There are 4 features selected by L1 regression\n",
      "['KelChD_10', 'Force_10', 'Force_5', 'Force_3']\n"
     ]
    }
   ],
   "source": [
    "final_features_l1Reg = X_train_.columns[(clf.coef_ > 0).flatten()]\n",
    "print(f\"There are {len(final_features_l1Reg)} features selected by L1 regression\")\n",
    "print(final_features_l1Reg.tolist())"
   ]
  },
  {
   "cell_type": "markdown",
   "metadata": {},
   "source": [
    "## By correlation"
   ]
  },
  {
   "cell_type": "code",
   "execution_count": 19,
   "metadata": {},
   "outputs": [],
   "source": [
    "#fill nan with mean to avoid bias\n",
    "X_train_ = X_train.fillna(X_train.mean())\n",
    "corr_value = X_train_.corrwith(y_train)\n",
    "corr_abs = abs(corr_value).sort_values(ascending=False)"
   ]
  },
  {
   "cell_type": "code",
   "execution_count": 20,
   "metadata": {},
   "outputs": [
    {
     "name": "stdout",
     "output_type": "stream",
     "text": [
      "There are 10 features selected by correlation coefficient\n",
      "['Open', 'VWAP', 'High', 'Close', 'EMA_3', 'MA_3', 'EMA_5', 'MA_5', 'Low', 'Volume']\n"
     ]
    }
   ],
   "source": [
    "THRESHOLD = 0.05\n",
    "final_features_corr = corr_abs[corr_abs > THRESHOLD].index\n",
    "print(f\"There are {len(final_features_corr)} features selected by correlation coefficient\")\n",
    "print(final_features_corr.tolist())"
   ]
  }
 ],
 "metadata": {
  "interpreter": {
   "hash": "50bc8ce3d1f752641134e147d4e62e8ba66bb5292f815a5a3dd7adbd21f01ef0"
  },
  "kernelspec": {
   "display_name": "Python 3.6.8 64-bit ('test': conda)",
   "language": "python",
   "name": "python3"
  },
  "language_info": {
   "codemirror_mode": {
    "name": "ipython",
    "version": 3
   },
   "file_extension": ".py",
   "mimetype": "text/x-python",
   "name": "python",
   "nbconvert_exporter": "python",
   "pygments_lexer": "ipython3",
   "version": "3.6.8"
  },
  "orig_nbformat": 4
 },
 "nbformat": 4,
 "nbformat_minor": 2
}
